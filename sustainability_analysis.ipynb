{
 "cells": [
  {
   "cell_type": "markdown",
   "metadata": {},
   "source": [
    "# Sustainability of Research Software Repositories\n",
    "The lifespan of a repository is computed by means of the first and the last commit. If the last commit occurred in the past 12 months, the repository is considered live."
   ]
  },
  {
   "cell_type": "code",
   "execution_count": null,
   "metadata": {},
   "outputs": [],
   "source": [
    "import yaml\n",
    "import numpy as np\n",
    "import matplotlib.pyplot as plt\n",
    "import pandas as pandas\n",
    "import collections\n",
    "import modules.database as db"
   ]
  },
  {
   "cell_type": "markdown",
   "metadata": {},
   "source": [
    "## Connect to Database Collection"
   ]
  },
  {
   "cell_type": "code",
   "execution_count": null,
   "metadata": {},
   "outputs": [],
   "source": [
    "rs_repo_table = db.RsRepoCollection()"
   ]
  },
  {
   "cell_type": "markdown",
   "metadata": {},
   "source": [
    "## Set Basic Parameters for Analysis"
   ]
  },
  {
   "cell_type": "code",
   "execution_count": null,
   "metadata": {},
   "outputs": [],
   "source": [
    "plt.style.use('fivethirtyeight')\n",
    "plt.rcParams.update({'font.size': 14})"
   ]
  },
  {
   "cell_type": "markdown",
   "metadata": {},
   "source": [
    "## Auxiliary Functions\n",
    "\n",
    "The **get_charateristic_values** function receives a sample name (github, acm, arxiv) and returns the characteristic values regarding the lifespan of these repositories.    \n",
    "The **plot_lifespan** function receives a sample name (github, acm, arxiv) and plots a bar chart for the lifespan of the active and dormant repositories."
   ]
  },
  {
   "cell_type": "code",
   "execution_count": null,
   "metadata": {},
   "outputs": [],
   "source": [
    "def percentage(part, whole):\n",
    "    return round(100 * float(part)/float(whole), 2)\n",
    "\n",
    "def get_characteristic_values(sample_name=None):\n",
    "    total = rs_repo_table.get_number_of_entries({'group': {'$in': [sample_name]}})\n",
    "    active = rs_repo_table.get_number_of_entries({'$and': [{'group': {'$in': [sample_name]}},{'live':True}]})\n",
    "    dormant =rs_repo_table.get_number_of_entries({'$and': [{'group': {'$in': [sample_name]}},{'live':False}]})\n",
    "    one_day = rs_repo_table.get_number_of_entries({'$and': [{'group': {'$in': [sample_name]}},{'lifespan':0}]})\n",
    "    print('Characteristic values for the', sample_name, 'sample: ')\n",
    "    print('number of repositories: ', total)\n",
    "    print('active: ', active, percentage(active,total))\n",
    "    print('dormant: ', dormant, percentage(dormant, total))\n",
    "    print('one day: ', one_day, percentage(one_day, total))\n",
    "    \n",
    "    repos = rs_repo_table.get_entries({'group': {'$in': [sample_name]}})\n",
    "    days = []\n",
    "    for repo in repos:\n",
    "        days.append(repo['lifespan'])\n",
    "    print('median: ', np.median(days), 'std: ', np.std(days,ddof=1) )\n",
    "    \n",
    "    repos = rs_repo_table.get_entries({'$and': [{'group': {'$in': [sample_name]}},{'live':True}]})\n",
    "    days = []\n",
    "    for repo in repos:\n",
    "        days.append(repo['lifespan'])\n",
    "    print('median for live repositories in', sample_name, ': ', np.median(days), 'std: ', np.std(days) )\n",
    "    \n",
    "    repos = rs_repo_table.get_entries({'$and': [{'group': {'$in': [sample_name]}},{'live':False}]})\n",
    "    days = []\n",
    "    for repo in repos:\n",
    "        days.append(repo['lifespan'])\n",
    "    print('median for dormant repositories in', sample_name, ': ', np.median(days), 'std: ', np.std(days) )\n",
    "\n",
    "\n",
    "def plot_lifespan(sample):\n",
    "    active = []\n",
    "    repos = rs_repo_table.get_entries({'$and': [{'live':True}, {'group': {'$in': [sample]}}]})\n",
    "    for repo in repos:\n",
    "        active.append(repo['lifespan'])\n",
    "    active = [x//365 for x in active]\n",
    "    dormant = []\n",
    "    repos = rs_repo_table.get_entries({'$and': [{'live':False}, {'group': {'$in': [sample]}}]})\n",
    "    for repo in repos:\n",
    "        dormant.append(repo['lifespan'])\n",
    "    dormant = [x//365 for x in dormant]\n",
    "\n",
    "    keys_active = collections.Counter(active).keys() # equals to list(set(words))\n",
    "    values_active = collections.Counter(active).values() # counts the elements' frequency\n",
    "    keys_dormant = collections.Counter(dormant).keys() # equals to list(set(words))\n",
    "    values_dormant = collections.Counter(dormant).values() # counts the elements' frequency\n",
    "    activeDict = dict(zip(keys_active,values_active))\n",
    "    dormantDict = dict(zip(keys_dormant,values_dormant))\n",
    "\n",
    "    for key in activeDict:\n",
    "        if not key in dormantDict:\n",
    "            dormantDict.update({key:0})\n",
    "    for key in dormantDict:\n",
    "        if not key in activeDict:\n",
    "            activeDict.update({key:0})\n",
    "\n",
    "    sortedActive = collections.OrderedDict(sorted(activeDict.items()))\n",
    "    sortedDormant = collections.OrderedDict(sorted(dormantDict.items()))\n",
    "\n",
    "    sortedAct = {k: sortedActive[k] for k in sortedActive.keys() if k < 9}\n",
    "    sortedDorm = {k: sortedDormant[k] for k in sortedDormant.keys() if k < 9}\n",
    "\n",
    "    N = len(sortedAct)\n",
    "    ind = np.arange(N)  # the x locations for the groups\n",
    "    width = 0.27       # the width of the bars\n",
    "\n",
    "    fig = plt.figure()\n",
    "    ax = fig.add_subplot(111)\n",
    "\n",
    "    yvals = [int(v) for v in sortedDorm.values()]\n",
    "    rects1 = ax.bar(ind, yvals, width)\n",
    "    zvals = [int(v) for v in sortedAct.values()]\n",
    "    rects2 = ax.bar(ind+width, zvals, width)\n",
    "\n",
    "    ax.set_ylabel('Repositories')\n",
    "    ax.set_xlabel('Years')\n",
    "    ax.legend( (rects1[0], rects2[0]), ('dormant', 'active') )\n",
    "\n",
    "    # plt.savefig(\"lifespan.pdf\", bbox_inches = \"tight\")\n",
    "    print(sample, 'group: Lifetime, limited to 8 years, of live and dormant repositories: ')\n",
    "    plt.show()"
   ]
  },
  {
   "cell_type": "markdown",
   "metadata": {},
   "source": [
    "## Replicated Sustainability Analysis for the GitHub, ACM, and arXiv group"
   ]
  },
  {
   "cell_type": "code",
   "execution_count": null,
   "metadata": {},
   "outputs": [],
   "source": [
    "get_characteristic_values('github')"
   ]
  },
  {
   "cell_type": "code",
   "execution_count": null,
   "metadata": {},
   "outputs": [],
   "source": [
    "get_characteristic_values('acm')"
   ]
  },
  {
   "cell_type": "code",
   "execution_count": null,
   "metadata": {},
   "outputs": [],
   "source": [
    "get_characteristic_values('arxiv')"
   ]
  },
  {
   "cell_type": "code",
   "execution_count": null,
   "metadata": {},
   "outputs": [],
   "source": [
    "plot_lifespan('github')"
   ]
  },
  {
   "cell_type": "code",
   "execution_count": null,
   "metadata": {},
   "outputs": [],
   "source": [
    "plot_lifespan('acm')"
   ]
  },
  {
   "cell_type": "code",
   "execution_count": null,
   "metadata": {},
   "outputs": [],
   "source": [
    "plot_lifespan('arxiv')"
   ]
  },
  {
   "cell_type": "markdown",
   "metadata": {},
   "source": [
    "## Additional Sustainability Analysis for Computer Science and Computational Science\n",
    "By means of the related publications, research subjects and research fields are assigned to each repository. Hence, the repositories may also be grouped by computer science and computational science. The computer science sample comprises all repositories that are assigned to the research field computer science. The remaining repositories, only assigned to one research field other than computer science, are accumulated in the computational science sample. In addition, repositories with multiple research fields including computer\n",
    "science are grouped into one sample, as well as repositories with multiple research fields not including computer science.     \n",
    "In three of these four samples, the live and dormant repositories have nearly the same share. Except for the repositories with multiple research fields which include computer science. In this sample, the dormant repositories are somewhat stronger represented. Also the proportion of repositories with a lifespan of one day is almost the same in all samples. It ranges from 13.04% to 17.29%.      \n",
    "Differences between the four samples are observed in the distribution of the repository lifespans. The lifespan of the repositories in the computational science sample is distributed with a median of 168 days. The repositories with multiple research fields, not including computer science, have a lifespan distribution with a median of 209 days, similar to the repositories from the computer science sample (217 days). The lifespan distribution with the highest median is discovered for the repositories with multiple research fields that also belong to computer science."
   ]
  },
  {
   "cell_type": "markdown",
   "metadata": {},
   "source": [
    "### Computational Science"
   ]
  },
  {
   "cell_type": "code",
   "execution_count": null,
   "metadata": {},
   "outputs": [],
   "source": [
    "total = rs_repo_table.get_number_of_entries({'$and':[{'subject': {'$nin': ['Computer Science']}},{'subject':{'$size':1}}]})\n",
    "active = rs_repo_table.get_number_of_entries({'$and': [{'live':True}, {'subject': {'$nin': ['Computer Science']}},{'subject':{'$size':1}}]})\n",
    "dormant =rs_repo_table.get_number_of_entries({'$and': [{'live':False}, {'subject': {'$nin': ['Computer Science']}},{'subject':{'$size':1}}]})\n",
    "one_day = rs_repo_table.get_number_of_entries({'$and': [{'lifespan':0}, {'subject': {'$nin': ['Computer Science']}},{'subject':{'$size':1}}]})\n",
    "print(\"Number of repositories: \", total)\n",
    "print('active: ', active, percentage(active,total))\n",
    "print('dormant: ', dormant, percentage(dormant, total))\n",
    "print('one day: ', one_day, percentage(one_day, total))\n",
    "repos = rs_repo_table.get_entries({'$and':[{'subject': {'$nin': ['Computer Science']}},{'subject':{'$size':1}}]})\n",
    "days = []\n",
    "for repo in repos:\n",
    "    days.append(repo['lifespan'])\n",
    "print('median: ', np.median(days), 'std: ', np.std(days,ddof=1)  )"
   ]
  },
  {
   "cell_type": "markdown",
   "metadata": {},
   "source": [
    "### Computer Science"
   ]
  },
  {
   "cell_type": "code",
   "execution_count": null,
   "metadata": {},
   "outputs": [],
   "source": [
    "total = rs_repo_table.get_number_of_entries({'$and':[{'subject': {'$in': ['Computer Science']}},{'subject':{'$size':1}}]})\n",
    "active = rs_repo_table.get_number_of_entries({'$and': [{'live':True}, {'subject': {'$in': ['Computer Science']}},{'subject':{'$size':1}}]})\n",
    "dormant =rs_repo_table.get_number_of_entries({'$and': [{'live':False}, {'subject': {'$in': ['Computer Science']}},{'subject':{'$size':1}}]})\n",
    "zero = rs_repo_table.get_number_of_entries({'$and': [{'lifespan':0}, {'subject': {'$in': ['Computer Science']}},{'subject':{'$size':1}}]})\n",
    "print(\"Number of repositories: \", total)\n",
    "print('active: ', active, percentage(active,total))\n",
    "print('dormant: ', dormant, percentage(dormant, total))\n",
    "print('one day: ', zero, percentage(zero, total))\n",
    "repos = rs_repo_table.get_entries({'$and':[{'subject': {'$in': ['Computer Science']}},{'subject':{'$size':1}}]})\n",
    "days = []\n",
    "for repo in repos:\n",
    "    days.append(repo['lifespan'])\n",
    "print('median: ', np.median(days), 'std: ', np.std(days,ddof=1)  )"
   ]
  },
  {
   "cell_type": "markdown",
   "metadata": {},
   "source": [
    "### Multidisciplinary, Computer Science included"
   ]
  },
  {
   "cell_type": "code",
   "execution_count": null,
   "metadata": {},
   "outputs": [],
   "source": [
    "total = rs_repo_table.get_number_of_entries({'$and':[{'subject': {'$in': ['Computer Science']}},{'subject.1': {'$exists': True}}]})\n",
    "active = rs_repo_table.get_number_of_entries({'$and': [{'subject': {'$in': ['Computer Science']}},{'live':True}, {'subject.1': {'$exists': True}}]})\n",
    "dormant =rs_repo_table.get_number_of_entries({'$and': [{'subject': {'$in': ['Computer Science']}},{'live':False}, {'subject.1': {'$exists': True}}]})\n",
    "zero = rs_repo_table.get_number_of_entries({'$and': [{'subject': {'$in': ['Computer Science']}},{'lifespan':0}, {'subject.1': {'$exists': True}}]})\n",
    "print(\"Number of repositories: \", total)\n",
    "print('active: ', active, percentage(active,total))\n",
    "print('dormant: ', dormant, percentage(dormant, total))\n",
    "print('one day: ', zero, percentage(zero, total))\n",
    "repos = rs_repo_table.get_entries({'$and':[{'subject': {'$in': ['Computer Science']}},{'subject.1': {'$exists': True}}]})\n",
    "days = []\n",
    "for repo in repos:\n",
    "    days.append(repo['lifespan'])\n",
    "print('median: ', np.median(days), 'std: ', np.std(days,ddof=1)  )"
   ]
  },
  {
   "cell_type": "markdown",
   "metadata": {},
   "source": [
    "### Multidisciplinary, Computer Science excluded"
   ]
  },
  {
   "cell_type": "code",
   "execution_count": null,
   "metadata": {},
   "outputs": [],
   "source": [
    "total = rs_repo_table.get_number_of_entries({'$and':[{'subject': {'$nin': ['Computer Science']}},{'subject.1': {'$exists': True}}]})\n",
    "active = rs_repo_table.get_number_of_entries({'$and': [{'subject': {'$nin': ['Computer Science']}},{'live':True}, {'subject.1': {'$exists': True}}]})\n",
    "dormant =rs_repo_table.get_number_of_entries({'$and': [{'subject': {'$nin': ['Computer Science']}},{'live':False}, {'subject.1': {'$exists': True}}]})\n",
    "zero = rs_repo_table.get_number_of_entries({'$and': [{'subject': {'$nin': ['Computer Science']}},{'lifespan':0}, {'subject.1': {'$exists': True}}]})\n",
    "print(\"Number of repositories: \", total)\n",
    "print('active: ', active, percentage(active,total))\n",
    "print('dormant: ', dormant, percentage(dormant, total))\n",
    "print('one day: ', zero, percentage(zero, total))\n",
    "repos = rs_repo_table.get_entries({'$and':[{'subject': {'$nin': ['Computer Science']}},{'subject.1': {'$exists': True}}]})\n",
    "days = []\n",
    "for repo in repos:\n",
    "    days.append(repo['lifespan'])\n",
    "print('median: ', np.median(days), 'std: ', np.std(days,ddof=1)  )"
   ]
  }
 ],
 "metadata": {
  "kernelspec": {
   "display_name": "Python 3",
   "language": "python",
   "name": "python3"
  },
  "language_info": {
   "codemirror_mode": {
    "name": "ipython",
    "version": 3
   },
   "file_extension": ".py",
   "mimetype": "text/x-python",
   "name": "python",
   "nbconvert_exporter": "python",
   "pygments_lexer": "ipython3",
   "version": "3.8.5"
  }
 },
 "nbformat": 4,
 "nbformat_minor": 4
}
