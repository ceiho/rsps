{
 "cells": [
  {
   "cell_type": "markdown",
   "metadata": {},
   "source": [
    "***Supplementary Anylasis for the Presentation***"
   ]
  },
  {
   "cell_type": "code",
   "execution_count": 1,
   "metadata": {},
   "outputs": [],
   "source": [
    "import yaml\n",
    "import numpy as np\n",
    "import matplotlib.pyplot as plt\n",
    "import pandas as pandas\n",
    "import collections\n",
    "import modules.database as db"
   ]
  },
  {
   "cell_type": "markdown",
   "metadata": {},
   "source": [
    "Connect to datbase"
   ]
  },
  {
   "cell_type": "code",
   "execution_count": 2,
   "metadata": {},
   "outputs": [],
   "source": [
    "rs_repo_table = db.RsRepoCollection()"
   ]
  },
  {
   "cell_type": "markdown",
   "metadata": {},
   "source": [
    "Number of repositories with first commit date in 2019 or 2020"
   ]
  },
  {
   "cell_type": "code",
   "execution_count": 3,
   "metadata": {},
   "outputs": [
    {
     "name": "stdout",
     "output_type": "stream",
     "text": [
      "23835 repositories have a first commit date in 2019 or 2020 33.71 %\n",
      "13024 computer science repositories have a first commit date in 2019 or 2020 18.42 %\n"
     ]
    }
   ],
   "source": [
    "total = rs_repo_table.get_number_of_entries({'main_subject':{'$exists':True}})\n",
    "sample = rs_repo_table.get_number_of_entries({'$and': [{'main_subject':{'$exists':True}},{'first_commit':{'$regex':'2019|2020'}}]})\n",
    "print(sample, 'repositories have a first commit date in 2019 or 2020', round(100 * float(sample)/float(total), 2), '%' )\n",
    "sample = rs_repo_table.get_number_of_entries({'$and': [{'main_subject':{'$exists':True}},\n",
    "                                                       {'first_commit':{'$regex':'2019|2020'}},\n",
    "                                                       {'subject':{'$in':['Computer Science']}}\n",
    "                                                      ]})\n",
    "print(sample, 'computer science repositories have a first commit date in 2019 or 2020', round(100 * float(sample)/float(total), 2), '%' )"
   ]
  },
  {
   "cell_type": "markdown",
   "metadata": {},
   "source": [
    "Number of repositories in the GitHub sample with first commit date in 2019 or 2020"
   ]
  },
  {
   "cell_type": "code",
   "execution_count": 4,
   "metadata": {},
   "outputs": [
    {
     "name": "stdout",
     "output_type": "stream",
     "text": [
      "15366 repositories in the GitHub sample have a first commit date in 2019 or 2020 40.17 %\n",
      "5745 computer science repositories in the GitHub sample have a first commit date in 2019 or 2020 15.02 %\n"
     ]
    }
   ],
   "source": [
    "total = rs_repo_table.get_number_of_entries({'$and': [{'main_subject':{'$exists':True}},{'group': {'$in': ['github']}}]})\n",
    "sample = rs_repo_table.get_number_of_entries({'$and': [{'group': {'$in': ['github']}},\n",
    "                                                       {'main_subject':{'$exists':True}},\n",
    "                                                       {'first_commit':{'$regex':'2019|2020'}}]})\n",
    "print(sample, 'repositories in the GitHub sample have a first commit date in 2019 or 2020', round(100 * float(sample)/float(total), 2), '%' )\n",
    "sample = rs_repo_table.get_number_of_entries({'$and': [{'main_subject':{'$exists':True}},\n",
    "                                                       {'group': {'$in': ['github']}},\n",
    "                                                       {'first_commit':{'$regex':'2019|2020'}},\n",
    "                                                       {'subject':{'$in':['Computer Science']}}\n",
    "                                                      ]})\n",
    "print(sample, 'computer science repositories in the GitHub sample have a first commit date in 2019 or 2020', round(100 * float(sample)/float(total), 2), '%' )"
   ]
  },
  {
   "cell_type": "markdown",
   "metadata": {},
   "source": [
    "Lifespan of computer science repositories in the GitHub sample"
   ]
  },
  {
   "cell_type": "code",
   "execution_count": 5,
   "metadata": {},
   "outputs": [
    {
     "name": "stdout",
     "output_type": "stream",
     "text": [
      "GitHub sample, active computer science repositories - mean value:  676.1108563722184 ( 21.810027624910273 months)\n",
      "GitHub sample, dormant computer science repositories - mean value:  449.99118652986056 ( 14.515844726769695 months)\n",
      "GitHub Sample: Lifespan of computer science repositories: \n"
     ]
    },
    {
     "data": {
      "image/png": "[encoded data removed]",
      "text/plain": [
       "<Figure size 432x288 with 1 Axes>"
      ]
     },
     "metadata": {
      "needs_background": "light"
     },
     "output_type": "display_data"
    }
   ],
   "source": [
    "activeI = []\n",
    "repos = rs_repo_table.get_entries({'$and': [{'live':True}, \n",
    "                                            {'group': {'$in': ['github']}},  \n",
    "                                            {'subject':{'$in':['Computer Science']}},\n",
    "                                            {'main_subject':{'$exists':True}}]})\n",
    "for repo in repos:\n",
    "    activeI.append(repo['lifespan'])\n",
    "active = [x//365 for x in activeI]\n",
    "dormantI = []\n",
    "repos = rs_repo_table.get_entries({'$and': [{'live':False}, \n",
    "                                            {'group': {'$in': ['github']}}, \n",
    "                                            {'subject':{'$in':['Computer Science']}},\n",
    "                                            {'main_subject':{'$exists':True}}]})\n",
    "for repo in repos:\n",
    "    dormantI.append(repo['lifespan'])\n",
    "dormant = [x//365 for x in dormantI]\n",
    "\n",
    "print('GitHub sample, active computer science repositories - mean value: ', np.mean(activeI), '(', np.mean(activeI)/31, 'months)')\n",
    "print('GitHub sample, dormant computer science repositories - mean value: ', np.mean(dormantI), '(', np.mean(dormantI)/31, 'months)')\n",
    "\n",
    "keys_active = collections.Counter(active).keys() # equals to list(set(words))\n",
    "values_active = collections.Counter(active).values() # counts the elements' frequency\n",
    "keys_dormant = collections.Counter(dormant).keys() # equals to list(set(words))\n",
    "values_dormant = collections.Counter(dormant).values() # counts the elements' frequency\n",
    "activeDict = dict(zip(keys_active,values_active))\n",
    "dormantDict = dict(zip(keys_dormant,values_dormant))\n",
    "\n",
    "for key in activeDict:\n",
    "    if not key in dormantDict:\n",
    "        dormantDict.update({key:0})\n",
    "for key in dormantDict:\n",
    "    if not key in activeDict:\n",
    "        activeDict.update({key:0})\n",
    "\n",
    "sortedActive = collections.OrderedDict(sorted(activeDict.items()))\n",
    "sortedDormant = collections.OrderedDict(sorted(dormantDict.items()))\n",
    "\n",
    "sortedAct = {k: sortedActive[k] for k in sortedActive.keys() if k < 13}\n",
    "sortedDorm = {k: sortedDormant[k] for k in sortedDormant.keys() if k < 13}\n",
    "\n",
    "N = len(sortedAct)\n",
    "ind = np.arange(N)  # the x locations for the groups\n",
    "width = 0.27       # the width of the bars\n",
    "\n",
    "fig = plt.figure()\n",
    "ax = fig.add_subplot(111)\n",
    "\n",
    "yvals = [int(v) for v in sortedDorm.values()]\n",
    "rects1 = ax.bar(ind, yvals, width)\n",
    "zvals = [int(v) for v in sortedAct.values()]\n",
    "rects2 = ax.bar(ind+width, zvals, width)\n",
    "\n",
    "ax.set_ylabel('Repositories')\n",
    "ax.set_xticks(ind+width)\n",
    "ax.set_xticklabels( [k for k in sortedAct.keys()] )\n",
    "ax.legend( (rects1[0], rects2[0]), ('dormant', 'active') )\n",
    "\n",
    "print('GitHub Sample: Lifespan of computer science repositories: ')\n",
    "plt.show()"
   ]
  },
  {
   "cell_type": "markdown",
   "metadata": {},
   "source": [
    "Lifespan of computer science (only) repositories in the GitHub sample"
   ]
  },
  {
   "cell_type": "code",
   "execution_count": 6,
   "metadata": {},
   "outputs": [
    {
     "name": "stdout",
     "output_type": "stream",
     "text": [
      "GitHub sample, active computer science repositories - mean value:  491.04848484848486 ( 15.840273704789833 months)\n",
      "GitHub sample, dormant computer science repositories - mean value:  nan ( nan months)\n",
      "GitHub Sample: Lifespan of computer science, not interdisciplinary repositories: \n"
     ]
    },
    {
     "name": "stderr",
     "output_type": "stream",
     "text": [
      "/home/count/python-virtual-environments/venv_final/lib/python3.6/site-packages/numpy/core/fromnumeric.py:3373: RuntimeWarning: Mean of empty slice.\n",
      "  out=out, **kwargs)\n",
      "/home/count/python-virtual-environments/venv_final/lib/python3.6/site-packages/numpy/core/_methods.py:170: RuntimeWarning: invalid value encountered in double_scalars\n",
      "  ret = ret.dtype.type(ret / rcount)\n"
     ]
    },
    {
     "data": {
      "image/png": "[encoded data removed]",
      "text/plain": [
       "<Figure size 432x288 with 1 Axes>"
      ]
     },
     "metadata": {
      "needs_background": "light"
     },
     "output_type": "display_data"
    }
   ],
   "source": [
    "activeI = []\n",
    "repos = rs_repo_table.get_entries({'$and': [{'live':True}, \n",
    "                                            {'group': {'$in': ['github']}},  \n",
    "                                            {'subject':{'$in':['Computer Science']}},\n",
    "                                            {'subject':{'$size':1}},\n",
    "                                            {'main_subject':{'$exists':True}}]})\n",
    "for repo in repos:\n",
    "    activeI.append(repo['lifespan'])\n",
    "active = [x//365 for x in activeI]\n",
    "dormantI = []\n",
    "repos = rs_repo_table.get_entries({'$and': [{'live':False}, \n",
    "                                            {'group': {'$in': ['github']}}, \n",
    "                                            {'subject':{'$in':['Computer Science']}},\n",
    "                                            {'subject':{'size':1}},\n",
    "                                            {'main_subject':{'$exists':True}}]})\n",
    "for repo in repos:\n",
    "    dormantI.append(repo['lifespan'])\n",
    "dormant = [x//365 for x in dormantI]\n",
    "\n",
    "print('GitHub sample, active computer science repositories - mean value: ', np.mean(activeI), '(', np.mean(activeI)/31, 'months)')\n",
    "print('GitHub sample, dormant computer science repositories - mean value: ', np.mean(dormantI), '(', np.mean(dormantI)/31, 'months)')\n",
    "\n",
    "keys_active = collections.Counter(active).keys() # equals to list(set(words))\n",
    "values_active = collections.Counter(active).values() # counts the elements' frequency\n",
    "keys_dormant = collections.Counter(dormant).keys() # equals to list(set(words))\n",
    "values_dormant = collections.Counter(dormant).values() # counts the elements' frequency\n",
    "activeDict = dict(zip(keys_active,values_active))\n",
    "dormantDict = dict(zip(keys_dormant,values_dormant))\n",
    "\n",
    "for key in activeDict:\n",
    "    if not key in dormantDict:\n",
    "        dormantDict.update({key:0})\n",
    "for key in dormantDict:\n",
    "    if not key in activeDict:\n",
    "        activeDict.update({key:0})\n",
    "\n",
    "sortedActive = collections.OrderedDict(sorted(activeDict.items()))\n",
    "sortedDormant = collections.OrderedDict(sorted(dormantDict.items()))\n",
    "\n",
    "sortedAct = {k: sortedActive[k] for k in sortedActive.keys() if k < 13}\n",
    "sortedDorm = {k: sortedDormant[k] for k in sortedDormant.keys() if k < 13}\n",
    "\n",
    "N = len(sortedAct)\n",
    "ind = np.arange(N)  # the x locations for the groups\n",
    "width = 0.27       # the width of the bars\n",
    "\n",
    "fig = plt.figure()\n",
    "ax = fig.add_subplot(111)\n",
    "\n",
    "yvals = [int(v) for v in sortedDorm.values()]\n",
    "rects1 = ax.bar(ind, yvals, width)\n",
    "zvals = [int(v) for v in sortedAct.values()]\n",
    "rects2 = ax.bar(ind+width, zvals, width)\n",
    "\n",
    "ax.set_ylabel('Repositories')\n",
    "ax.set_xticks(ind+width)\n",
    "ax.set_xticklabels( [k for k in sortedAct.keys()] )\n",
    "ax.legend( (rects1[0], rects2[0]), ('dormant', 'active') )\n",
    "\n",
    "print('GitHub Sample: Lifespan of computer science, not interdisciplinary repositories: ')\n",
    "plt.show()"
   ]
  },
  {
   "cell_type": "markdown",
   "metadata": {},
   "source": [
    "Lifespan of computational science repositories"
   ]
  },
  {
   "cell_type": "code",
   "execution_count": 7,
   "metadata": {},
   "outputs": [
    {
     "name": "stdout",
     "output_type": "stream",
     "text": [
      "GitHub sample, active computational science repositories - mean value:  564.7601038511467 ( 18.218067866166024 months)\n",
      "GitHub sample, dormant computational science repositories - mean value:  354.1727856225931 ( 11.424928568470746 months)\n",
      "GitHub Sample: Lifespan of computational science repositories: \n"
     ]
    },
    {
     "data": {
      "image/png": "[encoded data removed]",
      "text/plain": [
       "<Figure size 432x288 with 1 Axes>"
      ]
     },
     "metadata": {
      "needs_background": "light"
     },
     "output_type": "display_data"
    }
   ],
   "source": [
    "activeI = []\n",
    "repos = rs_repo_table.get_entries({'$and': [{'live':True}, \n",
    "                                            {'group': {'$in': ['github']}},  \n",
    "                                            {'subject':{'$nin':['Computer Science']}},\n",
    "                                            {'main_subject':{'$exists':True}}]})\n",
    "for repo in repos:\n",
    "    activeI.append(repo['lifespan'])\n",
    "active = [x//365 for x in activeI]\n",
    "dormantI = []\n",
    "repos = rs_repo_table.get_entries({'$and': [{'live':False}, \n",
    "                                            {'group': {'$in': ['github']}}, \n",
    "                                            {'subject':{'$nin':['Computer Science']}},\n",
    "                                            {'main_subject':{'$exists':True}}]})\n",
    "for repo in repos:\n",
    "    dormantI.append(repo['lifespan'])\n",
    "dormant = [x//365 for x in dormantI]\n",
    "\n",
    "print('GitHub sample, active computational science repositories - mean value: ', np.mean(activeI), '(', np.mean(activeI)/31, 'months)')\n",
    "print('GitHub sample, dormant computational science repositories - mean value: ', np.mean(dormantI), '(', np.mean(dormantI)/31, 'months)')\n",
    "\n",
    "keys_active = collections.Counter(active).keys() # equals to list(set(words))\n",
    "values_active = collections.Counter(active).values() # counts the elements' frequency\n",
    "keys_dormant = collections.Counter(dormant).keys() # equals to list(set(words))\n",
    "values_dormant = collections.Counter(dormant).values() # counts the elements' frequency\n",
    "activeDict = dict(zip(keys_active,values_active))\n",
    "dormantDict = dict(zip(keys_dormant,values_dormant))\n",
    "\n",
    "for key in activeDict:\n",
    "    if not key in dormantDict:\n",
    "        dormantDict.update({key:0})\n",
    "for key in dormantDict:\n",
    "    if not key in activeDict:\n",
    "        activeDict.update({key:0})\n",
    "\n",
    "sortedActive = collections.OrderedDict(sorted(activeDict.items()))\n",
    "sortedDormant = collections.OrderedDict(sorted(dormantDict.items()))\n",
    "\n",
    "sortedAct = {k: sortedActive[k] for k in sortedActive.keys() if k < 13}\n",
    "sortedDorm = {k: sortedDormant[k] for k in sortedDormant.keys() if k < 13}\n",
    "\n",
    "N = len(sortedAct)\n",
    "ind = np.arange(N)  # the x locations for the groups\n",
    "width = 0.27       # the width of the bars\n",
    "\n",
    "fig = plt.figure()\n",
    "ax = fig.add_subplot(111)\n",
    "\n",
    "yvals = [int(v) for v in sortedDorm.values()]\n",
    "rects1 = ax.bar(ind, yvals, width)\n",
    "zvals = [int(v) for v in sortedAct.values()]\n",
    "rects2 = ax.bar(ind+width, zvals, width)\n",
    "\n",
    "ax.set_ylabel('Repositories')\n",
    "ax.set_xticks(ind+width)\n",
    "ax.set_xticklabels( [k for k in sortedAct.keys()] )\n",
    "ax.legend( (rects1[0], rects2[0]), ('dormant', 'active') )\n",
    "\n",
    "print('GitHub Sample: Lifespan of computational science repositories: ')\n",
    "plt.show()"
   ]
  },
  {
   "cell_type": "markdown",
   "metadata": {},
   "source": [
    "Computational science repositories with first commit date before 2019"
   ]
  },
  {
   "cell_type": "code",
   "execution_count": 8,
   "metadata": {},
   "outputs": [
    {
     "name": "stdout",
     "output_type": "stream",
     "text": [
      "GitHub sample, active computational science repositories - mean value:  1601.0277447483154 ( 51.64605628220372 months)\n",
      "GitHub sample, dormant computational science repositories - mean value:  520.9629027490394 ( 16.805254927388365 months)\n",
      "GitHub Sample: Lifespan of computational science repositories, first commit date before 2019: \n"
     ]
    },
    {
     "data": {
      "image/png": "[encoded data removed]",
      "text/plain": [
       "<Figure size 432x288 with 1 Axes>"
      ]
     },
     "metadata": {
      "needs_background": "light"
     },
     "output_type": "display_data"
    }
   ],
   "source": [
    "activeI = []\n",
    "repos = rs_repo_table.get_entries({'$and': [{'live':True}, \n",
    "                                            {'group': {'$in': ['github']}},  \n",
    "                                            {'subject':{'$nin':['Computer Science']}},\n",
    "                                            {'main_subject':{'$exists':True}},\n",
    "                                            {'first_commit':{'$regex': r'2008|2009|2010|2011|2012|2013|2014|2015|2016|2017'}}                                           \n",
    "                                           ]})\n",
    "for repo in repos:\n",
    "    activeI.append(repo['lifespan'])\n",
    "active = [x//365 for x in activeI]\n",
    "dormantI = []\n",
    "repos = rs_repo_table.get_entries({'$and': [{'live':False}, \n",
    "                                            {'group': {'$in': ['github']}}, \n",
    "                                            {'subject':{'$nin':['Computer Science']}},\n",
    "                                            {'main_subject':{'$exists':True}},\n",
    "                                            {'first_commit':{'$regex': r'2008|2009|2010|2011|2012|2013|2014|2015|2016|2017'}}\n",
    "                                           ]})\n",
    "for repo in repos:\n",
    "    dormantI.append(repo['lifespan'])\n",
    "dormant = [x//365 for x in dormantI]\n",
    "\n",
    "print('GitHub sample, active computational science repositories - mean value: ', np.mean(activeI), '(', np.mean(activeI)/31, 'months)')\n",
    "print('GitHub sample, dormant computational science repositories - mean value: ', np.mean(dormantI), '(', np.mean(dormantI)/31, 'months)')\n",
    "\n",
    "keys_active = collections.Counter(active).keys() # equals to list(set(words))\n",
    "values_active = collections.Counter(active).values() # counts the elements' frequency\n",
    "keys_dormant = collections.Counter(dormant).keys() # equals to list(set(words))\n",
    "values_dormant = collections.Counter(dormant).values() # counts the elements' frequency\n",
    "activeDict = dict(zip(keys_active,values_active))\n",
    "dormantDict = dict(zip(keys_dormant,values_dormant))\n",
    "\n",
    "for key in activeDict:\n",
    "    if not key in dormantDict:\n",
    "        dormantDict.update({key:0})\n",
    "for key in dormantDict:\n",
    "    if not key in activeDict:\n",
    "        activeDict.update({key:0})\n",
    "\n",
    "sortedActive = collections.OrderedDict(sorted(activeDict.items()))\n",
    "sortedDormant = collections.OrderedDict(sorted(dormantDict.items()))\n",
    "\n",
    "sortedAct = {k: sortedActive[k] for k in sortedActive.keys() if k < 13}\n",
    "sortedDorm = {k: sortedDormant[k] for k in sortedDormant.keys() if k < 13}\n",
    "\n",
    "N = len(sortedAct)\n",
    "ind = np.arange(N)  # the x locations for the groups\n",
    "width = 0.27       # the width of the bars\n",
    "\n",
    "fig = plt.figure()\n",
    "ax = fig.add_subplot(111)\n",
    "\n",
    "yvals = [int(v) for v in sortedDorm.values()]\n",
    "rects1 = ax.bar(ind, yvals, width)\n",
    "zvals = [int(v) for v in sortedAct.values()]\n",
    "rects2 = ax.bar(ind+width, zvals, width)\n",
    "\n",
    "ax.set_ylabel('Repositories')\n",
    "ax.set_xticks(ind+width)\n",
    "ax.set_xticklabels( [k for k in sortedAct.keys()] )\n",
    "ax.legend( (rects1[0], rects2[0]), ('dormant', 'active') )\n",
    "\n",
    "print('GitHub Sample: Lifespan of computational science repositories, first commit date before 2019: ')\n",
    "plt.show()"
   ]
  },
  {
   "cell_type": "markdown",
   "metadata": {},
   "source": [
    "Computer science repositories lifespan with first commit before 2019"
   ]
  },
  {
   "cell_type": "code",
   "execution_count": 9,
   "metadata": {},
   "outputs": [
    {
     "name": "stdout",
     "output_type": "stream",
     "text": [
      "GitHub sample, active computer science repositories - mean value:  1753.1872074882995 ( 56.55442604800966 months)\n",
      "GitHub sample, dormant computer science repositories - mean value:  620.2823529411764 ( 20.009108159392788 months)\n",
      "GitHub Sample: Lifespan of computer science repositories: \n"
     ]
    },
    {
     "data": {
      "image/png": "[encoded data removed]",
      "text/plain": [
       "<Figure size 432x288 with 1 Axes>"
      ]
     },
     "metadata": {
      "needs_background": "light"
     },
     "output_type": "display_data"
    }
   ],
   "source": [
    "# github group\n",
    "# description of the subsample - repository lifetime sorted by life and dormant\n",
    "activeI = []\n",
    "repos = rs_repo_table.get_entries({'$and': [{'live':True}, \n",
    "                                            {'group': {'$in': ['github']}},  \n",
    "                                            {'subject':{'$in':['Computer Science']}},\n",
    "                                            {'main_subject':{'$exists':True}},\n",
    "                                            {'first_commit':{'$regex': r'2008|2009|2010|2011|2012|2013|2014|2015|2016|2017'}}                                           \n",
    "                                           ]})\n",
    "for repo in repos:\n",
    "    activeI.append(repo['lifespan'])\n",
    "active = [x//365 for x in activeI]\n",
    "dormantI = []\n",
    "repos = rs_repo_table.get_entries({'$and': [{'live':False}, \n",
    "                                            {'group': {'$in': ['github']}}, \n",
    "                                            {'subject':{'$in':['Computer Science']}},\n",
    "                                            {'main_subject':{'$exists':True}},\n",
    "                                            {'first_commit':{'$regex': r'2008|2009|2010|2011|2012|2013|2014|2015|2016|2017'}}\n",
    "                                           ]})\n",
    "for repo in repos:\n",
    "    dormantI.append(repo['lifespan'])\n",
    "dormant = [x//365 for x in dormantI]\n",
    "\n",
    "print('GitHub sample, active computer science repositories - mean value: ', np.mean(activeI), '(', np.mean(activeI)/31, 'months)')\n",
    "print('GitHub sample, dormant computer science repositories - mean value: ', np.mean(dormantI), '(', np.mean(dormantI)/31, 'months)')\n",
    "\n",
    "keys_active = collections.Counter(active).keys() # equals to list(set(words))\n",
    "values_active = collections.Counter(active).values() # counts the elements' frequency\n",
    "keys_dormant = collections.Counter(dormant).keys() # equals to list(set(words))\n",
    "values_dormant = collections.Counter(dormant).values() # counts the elements' frequency\n",
    "activeDict = dict(zip(keys_active,values_active))\n",
    "dormantDict = dict(zip(keys_dormant,values_dormant))\n",
    "\n",
    "for key in activeDict:\n",
    "    if not key in dormantDict:\n",
    "        dormantDict.update({key:0})\n",
    "for key in dormantDict:\n",
    "    if not key in activeDict:\n",
    "        activeDict.update({key:0})\n",
    "\n",
    "sortedActive = collections.OrderedDict(sorted(activeDict.items()))\n",
    "sortedDormant = collections.OrderedDict(sorted(dormantDict.items()))\n",
    "\n",
    "sortedAct = {k: sortedActive[k] for k in sortedActive.keys() if k < 13}\n",
    "sortedDorm = {k: sortedDormant[k] for k in sortedDormant.keys() if k < 13}\n",
    "\n",
    "N = len(sortedAct)\n",
    "ind = np.arange(N)  # the x locations for the groups\n",
    "width = 0.27       # the width of the bars\n",
    "\n",
    "fig = plt.figure()\n",
    "ax = fig.add_subplot(111)\n",
    "\n",
    "yvals = [int(v) for v in sortedDorm.values()]\n",
    "rects1 = ax.bar(ind, yvals, width)\n",
    "zvals = [int(v) for v in sortedAct.values()]\n",
    "rects2 = ax.bar(ind+width, zvals, width)\n",
    "\n",
    "ax.set_ylabel('Repositories')\n",
    "ax.set_xticks(ind+width)\n",
    "ax.set_xticklabels( [k for k in sortedAct.keys()] )\n",
    "ax.legend( (rects1[0], rects2[0]), ('dormant', 'active') )\n",
    "\n",
    "print('GitHub Sample: Lifespan of computer science repositories, first commit before 2019: ')\n",
    "plt.show()"
   ]
  }
 ],
 "metadata": {
  "kernelspec": {
   "display_name": "venv_final",
   "language": "python",
   "name": "venv_final"
  },
  "language_info": {
   "codemirror_mode": {
    "name": "ipython",
    "version": 3
   },
   "file_extension": ".py",
   "mimetype": "text/x-python",
   "name": "python",
   "nbconvert_exporter": "python",
   "pygments_lexer": "ipython3",
   "version": "3.6.9"
  }
 },
 "nbformat": 4,
 "nbformat_minor": 4
}
