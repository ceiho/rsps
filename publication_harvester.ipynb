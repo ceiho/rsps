{
 "cells": [
  {
   "cell_type": "markdown",
   "metadata": {},
   "source": [
    "# Mining Research Publications    \n",
    "*Goal*: gather publications containing a specified keyword  \n",
    "*Supported code collaboration and version control tools*: arXiv\n",
    "\n",
    "*Default Parameters in the configuration file*:  \n",
    "  - pub_sources: arxiv\n",
    "  - pub_keywords: github.com"
   ]
  },
  {
   "cell_type": "code",
   "execution_count": null,
   "metadata": {},
   "outputs": [],
   "source": [
    "import sys\n",
    "import yaml\n",
    "from modules.database import Collection\n",
    "from modules.arxiv_harvester import ArXivHarvester"
   ]
  },
  {
   "cell_type": "markdown",
   "metadata": {},
   "source": [
    "## Load Required Parameter \n",
    "All neccessary parameter for the publication harvesting process are specified in the associated configuration file, located in the same folder. The specified publication sources are checked against the supported sources. A notification about skipping unsupported sources is printed. Also sources, that require an authentication token and the corresponding token is not specified, are skipped. The indicated authentication tokens are stored in the corresponding dictionary entry. The MongoDB database is used to store the metadata and additional information of the harvested publications. If the given database table does not exist, it has to be confirmed whether a new database table with this name should be created or an alternative database table may be specified."
   ]
  },
  {
   "cell_type": "code",
   "execution_count": null,
   "metadata": {},
   "outputs": [],
   "source": [
    "sources = []\n",
    "with open(\"config.yaml\", 'r') as stream:\n",
    "    params = yaml.safe_load(stream)\n",
    "\n",
    "for param in params['pub_sources']:\n",
    "    if param not in params['supported_sources']:\n",
    "        print(\"excluded, as not supported: \", param)\n",
    "    elif params['supported_sources'][param]['token_required'] == 'true' and not params['authentication'][param]:\n",
    "        print(\"excluded, as token is needed: \", param)\n",
    "    else:\n",
    "        sources.append(param)\n",
    "\n",
    "# initialize database\n",
    "# check if database table exists\n",
    "publication_collection = Collection('publications')\n",
    "\n",
    "# keywords\n",
    "keywords = params['pub_keywords']"
   ]
  },
  {
   "cell_type": "markdown",
   "metadata": {},
   "source": [
    "## Harvesting publications\n",
    "For every supported digital library and e-print repository, specified in the configuration file, the corresponding harvester class is instantiated. Iterating over all given keywords, the harvest method of the class is called with a keyword and the MongoDB collection instance for publications.  "
   ]
  },
  {
   "cell_type": "code",
   "execution_count": null,
   "metadata": {},
   "outputs": [],
   "source": [
    "for source in sources:\n",
    "    current = getattr(sys.modules[__name__], params['supported_sources'][source]['class'])()\n",
    "    for keyword in keywords:\n",
    "        current.harvest(keyword, publication_collection)"
   ]
  }
 ],
 "metadata": {
  "kernelspec": {
   "display_name": "Python 3",
   "language": "python",
   "name": "python3"
  },
  "language_info": {
   "codemirror_mode": {
    "name": "ipython",
    "version": 3
   },
   "file_extension": ".py",
   "mimetype": "text/x-python",
   "name": "python",
   "nbconvert_exporter": "python",
   "pygments_lexer": "ipython3",
   "version": "3.8.5"
  }
 },
 "nbformat": 4,
 "nbformat_minor": 4
}
