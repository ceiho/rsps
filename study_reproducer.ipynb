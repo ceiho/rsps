{
 "cells": [
  {
   "cell_type": "markdown",
   "metadata": {},
   "source": [
    "***Study Reproducer Notebook***  \n",
    "Prerequisites:\n",
    "\n",
    "    MongoDB\n",
    "    Jupyter Notebook\n",
    "    Packages (see requirements.txt)\n",
    "    Configuration File (in the same folder)\n",
    "\n",
    "Getting started:\n",
    "\n",
    "    Create a virtual environment\n",
    "    Install required packages (pip install requirements_analyzer.txt)\n",
    "    Specify parameter in the configuration file\n",
    "    Run this Notebook"
   ]
  },
  {
   "cell_type": "markdown",
   "metadata": {},
   "source": [
    "*Data acquisition, cleansing, and preparation*"
   ]
  },
  {
   "cell_type": "code",
   "execution_count": null,
   "metadata": {},
   "outputs": [],
   "source": [
    "%run rs_identifier.ipynb"
   ]
  },
  {
   "cell_type": "markdown",
   "metadata": {},
   "source": [
    "*Data analysis*"
   ]
  },
  {
   "cell_type": "code",
   "execution_count": null,
   "metadata": {},
   "outputs": [],
   "source": [
    "%run rs_analyzer.ipynb"
   ]
  }
 ],
 "metadata": {
  "kernelspec": {
   "display_name": "venv_final",
   "language": "python",
   "name": "venv_final"
  },
  "language_info": {
   "codemirror_mode": {
    "name": "ipython",
    "version": 3
   },
   "file_extension": ".py",
   "mimetype": "text/x-python",
   "name": "python",
   "nbconvert_exporter": "python",
   "pygments_lexer": "ipython3",
   "version": "3.6.9"
  }
 },
 "nbformat": 4,
 "nbformat_minor": 4
}
