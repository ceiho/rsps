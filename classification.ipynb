{
 "cells": [
  {
   "cell_type": "markdown",
   "metadata": {},
   "source": [
    "# Classification of Research Software Repositories\n",
    "\n",
    "By means of the ISSN and ISBN of the related publications, the research domain for a research software repository is looked up by applying the Scopus source list, Scopus book title ist, and the All Science Journal Classification Codes (ASJC) of Scopus (https://www.scopus.com). The ASJC specifies the four top-level research subjects life sciences, social sciences, physical sciences, and health sciences. These are subdivided into 26 research fields. One additional research field is called ‘Multidisciplinary.’    \n",
    "Since for the arXiv publications no ISSN or ISBN are available, the arXiv taxonomy (https://arxiv.org/category_taxonomy) is used to assign a research field to their referenced software repositories. The corresponding research subject is obtained by mapping the arXiv categories to ASJC categories."
   ]
  },
  {
   "cell_type": "code",
   "execution_count": null,
   "metadata": {},
   "outputs": [],
   "source": [
    "import matplotlib.pyplot as plt\n",
    "import pandas as pandas\n",
    "import collections\n",
    "import modules.database as db"
   ]
  },
  {
   "cell_type": "markdown",
   "metadata": {},
   "source": [
    "## Connect to Database Collections "
   ]
  },
  {
   "cell_type": "code",
   "execution_count": null,
   "metadata": {},
   "outputs": [],
   "source": [
    "repo_table = db.RepoCollection()\n",
    "publication_table = db.Collection('publications')\n",
    "rs_repo_table = db.RsRepoCollection()\n",
    "rs_artifact_table = db.RsArtifactCollection()"
   ]
  },
  {
   "cell_type": "markdown",
   "metadata": {},
   "source": [
    "## Set Basic Parameters for Analysis"
   ]
  },
  {
   "cell_type": "code",
   "execution_count": null,
   "metadata": {},
   "outputs": [],
   "source": [
    "plt.style.use('fivethirtyeight')\n",
    "plt.rcParams.update({'font.size': 16})"
   ]
  },
  {
   "cell_type": "code",
   "execution_count": null,
   "metadata": {},
   "outputs": [],
   "source": [
    "labelsSubject = [\"Health Sciences\", \"Social Sciences\", \"Physical Sciences\", \"Life Sciences\", \"Multidisciplinary\", \"Interdisciplinary\"]\n",
    "labelsFields = [\"Interdisciplinary\", \"Business, Management and Accounting\", \"Economics, Econometrics and Finance\",\n",
    "                \"Engineering\", \"Materials Science\", \"Chemical Engineering\", \"Medicine\", \"Arts and Humanities\",\n",
    "                \"Energy\", \"Social Sciences\", \"Agricultural and Biological Sciences\", \n",
    "                \"Physics and Astronomy\", \"Earth and Planetary Sciences\", 'Others',\n",
    "                \"Mathematics\", \"Pharmacology, Toxicology and Pharmaceutics\", \n",
    "                \"Computer Science\", \"Environmental Science\", \"Dentistry\", \"Nursing\", \"Health Professions\", \n",
    "                \"Immunology and Microbiology\", \"Neuroscience\", \"Veterinary\", \"Psychology\", \"Decision Sciences\", \n",
    "                \"Multidisciplinary\", \"Astrophysics\", \"Mathematical Physics\",\"Electrical Engineering and Systems Science\", \n",
    "                \"Condensed Matter\", \"Biochemistry, Genetics and Molecular Biology\",\n",
    "                \"Condensed Matter\",\"High Energy Physics - Phenomenology\", \"Quantitative Biology\", \"Quantum Physics\",\n",
    "                \"General Relativity and Quantum Cosmology\",\"Physics\", \"Nuclear Theory\", \"Quantitative Finance\",\n",
    "                \"High Energy Physics - Theory\",\"High Energy Physics - Lattice\",\"High Energy Physics - Experiment\",\n",
    "                \"Economics\", \"Nonlinear Sciences\", 'Statistics', \"Chemistry\"]\n",
    "\n",
    "coloursSubject = dict(zip(labelsSubject, plt.cm.Set2.colors[:len(labelsSubject)]))\n",
    "coloursField = dict(zip(labelsFields, (plt.cm.Set3.colors*4)[:len(labelsFields)]))"
   ]
  },
  {
   "cell_type": "markdown",
   "metadata": {},
   "source": [
    "## Auxiliary Functions\n",
    "The **cursor_to_dict** function converts a passed PyMongo cursor into a dictionary. Also a threshold can be passed, so that all elements below this threshold will be summarized in the category 'Others'.        \n",
    "The **display_table** function displays a dictionary with research subject or research field information as table, the percentage for each entry is added. Besides the dictionary (data), a flag is passed to indicate if the dictionary contains research subjects (subject = True) or research fields (subject = False).       \n",
    "The **display_pie_chart** function displays a dictionary with research subject or research field information as pie chart. A dictionary (data), the sampe name (sample = Overall | GitHub | ACM | arXiv), the subject flag (true if research subjects should be displayed) are passed. The file name to store the pie chart as pdf is an optional parameter. "
   ]
  },
  {
   "cell_type": "code",
   "execution_count": null,
   "metadata": {},
   "outputs": [],
   "source": [
    "def percentage(part, whole):\n",
    "    return round(100 * float(part)/float(whole), 2)\n",
    "\n",
    "def cursor_to_dict(cursor, limit=None):    \n",
    "    areas = {}\n",
    "    areas_cumulated = {}\n",
    "    others = 0\n",
    "    remove = []\n",
    "    for elem in overview:\n",
    "        for tmp in elem['counts']:\n",
    "            if not tmp['k']:\n",
    "                pass\n",
    "            elif tmp['k'] == [''] or tmp['k'] == ['Multidisciplinary']:\n",
    "                if 'Multidisciplinary' in areas:\n",
    "                    areas['Multidisciplinary'] = areas['Multidisciplinary'] + tmp['v']\n",
    "                else:\n",
    "                    areas['Multidisciplinary'] = tmp['v']            \n",
    "            elif len(tmp['k']) > 1:\n",
    "                for elem in tmp['k']:\n",
    "                    if elem in areas:\n",
    "                        areas[elem] = areas[elem] + tmp['v']\n",
    "                    elif not elem:\n",
    "                        if 'Multidisciplinary' in areas:\n",
    "                            areas['Multidisciplinary'] = areas['Multidisciplinary'] + tmp['v']\n",
    "                        else:\n",
    "                            areas['Multidisciplinary'] = tmp['v']                    \n",
    "                    else:\n",
    "                        areas[elem] = tmp['v']\n",
    "            else:\n",
    "                areas[tmp['k'][0]] = tmp['v']\n",
    "    areas = {key: value for key, value in sorted(areas.items(), key=lambda item: item[1], reverse=True)}\n",
    "    if limit:\n",
    "        for k, v in areas.items():\n",
    "            if v < limit:\n",
    "                others = others + v\n",
    "            else:\n",
    "                areas_cumulated[k] = v\n",
    "        areas_cumulated['Others'] = others\n",
    "    else:\n",
    "        areas_cumulated = areas\n",
    "    return areas, areas_cumulated\n",
    "\n",
    "def display_table(data, subject):\n",
    "    composed_data = []\n",
    "    total = sum(data.values())\n",
    "    spec = 'Subject' if subject else 'Field'\n",
    "    for key, value in data.items():\n",
    "        composed_data.append([key, value, percentage(value, total)])\n",
    "    print(pandas.DataFrame(composed_data, columns=[\"Research \" + spec, \"Number of Repos\", 'Percentage']))\n",
    "\n",
    "def display_pie_chart(data, sample, subject, saveChartName=None):\n",
    "    color_dict = coloursSubject if subject else coloursField\n",
    "    plt.pie([float(v) for v in data.values()], labels=[k for k in data.keys()],\n",
    "            autopct='%1.1f%%', startangle=90, pctdistance=0.75, counterclock=False,\n",
    "            colors=[color_dict[key] for key in [k for k in data.keys()]])\n",
    "    plt.axis('equal')\n",
    "    if saveChartName:\n",
    "        plt.savefig(saveChartName+\".pdf\", bbox_inches = \"tight\")\n",
    "    spec = 'subjects' if subject else 'fields'\n",
    "    print('Research ' + spec + ' of research software repositories in the ' + sample + ' sample: ')\n",
    "    plt.show()"
   ]
  },
  {
   "cell_type": "markdown",
   "metadata": {},
   "source": [
    "## Assigned Research Domains\n",
    "More than half of the repositories have two or more assigned research fields. This applies also for almost a third of the repositories regarding the research subject. In this case, each assigned research subject respectively research field is included in the classification."
   ]
  },
  {
   "cell_type": "code",
   "execution_count": null,
   "metadata": {},
   "outputs": [],
   "source": [
    "repos = rs_repo_table.get_entries({})\n",
    "numSubjects = {}\n",
    "numFields = {}\n",
    "\n",
    "for repo in repos:\n",
    "    sub = len(repo['main_subject'])\n",
    "    field = len(repo['subject'])\n",
    "    if sub in numSubjects:\n",
    "        numSubjects[sub] = numSubjects[sub] + 1\n",
    "    else:\n",
    "        numSubjects[sub] = 1\n",
    "    if field in numFields:\n",
    "        numFields[field] = numFields[field] + 1\n",
    "    else:\n",
    "        numFields[field] = 1\n",
    "numSubjects = collections.OrderedDict(sorted(numSubjects.items()))\n",
    "numFields = collections.OrderedDict(sorted(numFields.items()))\n",
    "numFields = {k: numFields[k] for k in numFields.keys() if k < 9}\n",
    "    \n",
    "plt.bar(range(len(numSubjects)), list(numSubjects.values()), align='center', tick_label=list(numSubjects.values()))\n",
    "plt.xticks(range(len(numSubjects)), list(numSubjects.keys()))\n",
    "plt.xlabel('Number of Assigned Subjects')\n",
    "plt.ylabel('Repositories')\n",
    "# plt.savefig(\"NumSubjects.pdf\", bbox_inches = \"tight\")\n",
    "plt.show()\n",
    "\n",
    "plt.bar(range(len(numFields)), list(numFields.values()), align='center', tick_label=list(numFields.values()))\n",
    "plt.xticks(range(len(numFields)), list(numFields.keys()))\n",
    "plt.xlabel('Number of Assigned Fields')\n",
    "plt.ylabel('Repositories')\n",
    "# plt.savefig(\"numFields.pdf\", bbox_inches = \"tight\")\n",
    "plt.show()"
   ]
  },
  {
   "cell_type": "code",
   "execution_count": null,
   "metadata": {},
   "outputs": [],
   "source": [
    "print('Number of repositories with more than one assigned research subject: ', \n",
    "      rs_repo_table.get_number_of_entries({'main_subject.1':{'$exists':True}}), \n",
    "      'in percent: ',\n",
    "      percentage(rs_repo_table.get_number_of_entries({'main_subject.1':{'$exists':True}}), rs_repo_table.get_number_of_entries({})))\n",
    "print('Number of repositories with more than one assigned research field: ', \n",
    "      rs_repo_table.get_number_of_entries({'subject.1':{'$exists':True}}),\n",
    "      'in percent: ',\n",
    "      percentage(rs_repo_table.get_number_of_entries({'subject.1':{'$exists':True}}), rs_repo_table.get_number_of_entries({})))"
   ]
  },
  {
   "cell_type": "markdown",
   "metadata": {},
   "source": [
    "### Research Subject Distribution for all Respositories  \n",
    "The majority of the repositories belongs to physical sciences, followed by repositories assigned to the life sciences."
   ]
  },
  {
   "cell_type": "code",
   "execution_count": null,
   "metadata": {},
   "outputs": [],
   "source": [
    "overview = rs_repo_table.compose_subjects('main_subject')\n",
    "data, data_cumulated = cursor_to_dict(overview)\n",
    "display_pie_chart(data_cumulated, 'overall', True)\n",
    "display_table(data, True)"
   ]
  },
  {
   "cell_type": "markdown",
   "metadata": {},
   "source": [
    "### Research Field Distribution for all Repositories\n",
    "With 39.9% of the repositories, computer science is the most strongly represented individual research field, followed by repositories assigned to biochemistry, genetics and molecular biology (9.2%). The remaining repositories pertain to various research fields, like mathematics (6.7%), engineering (6.1%), and further research fields accumulated in the Others category."
   ]
  },
  {
   "cell_type": "code",
   "execution_count": null,
   "metadata": {},
   "outputs": [],
   "source": [
    "overview = rs_repo_table.compose_subjects('subject')\n",
    "data, data_cumulated = cursor_to_dict(overview, 2800)\n",
    "display_pie_chart(data_cumulated, 'overall', False)\n",
    "\n",
    "display_table(data, False)"
   ]
  },
  {
   "cell_type": "markdown",
   "metadata": {},
   "source": [
    "### Research Subject Distribution of the Repositories in the GitHub Sample\n",
    "A closer look into the GitHub sample reveals that nearly half of the repositories are assigned to physical sciences, followed by the life and health sciences."
   ]
  },
  {
   "cell_type": "code",
   "execution_count": null,
   "metadata": {},
   "outputs": [],
   "source": [
    "overview = rs_repo_table.compose_subjects('main_subject','github')\n",
    "data, data_cumulated = cursor_to_dict(overview)\n",
    "display_pie_chart(data_cumulated, 'GitHub', True)\n",
    "\n",
    "display_table(data, True)"
   ]
  },
  {
   "cell_type": "markdown",
   "metadata": {},
   "source": [
    "### Research Field Distribution of the Repositories in the GitHub Sample\n",
    "Publications belonging to computer science (21.6%) and biochemistry together with genetics and molecular biology (13.8%) are slightly more commonly referenced than publications of other research fields."
   ]
  },
  {
   "cell_type": "code",
   "execution_count": null,
   "metadata": {},
   "outputs": [],
   "source": [
    "overview = rs_repo_table.compose_subjects('subject', 'github')\n",
    "data, data_cumulated = cursor_to_dict(overview, 2200)\n",
    "display_pie_chart(data_cumulated, 'GitHub', False)\n",
    "\n",
    "# display_table(data, False)"
   ]
  },
  {
   "cell_type": "markdown",
   "metadata": {},
   "source": [
    "### Research Subject Distribution of the Repositories in the ACM Sample\n",
    "Most of the repositories referenced by ACM publications are assigned to physical sciences (86.1%), with a great distance to social (6.2%) and life (5.6%) sciences."
   ]
  },
  {
   "cell_type": "code",
   "execution_count": null,
   "metadata": {},
   "outputs": [],
   "source": [
    "overview = rs_repo_table.compose_subjects('main_subject','acm')\n",
    "data, data_cumulated = cursor_to_dict(overview)\n",
    "display_pie_chart(data_cumulated, 'ACM', True)\n",
    "\n",
    "# display_table(data, True)"
   ]
  },
  {
   "cell_type": "markdown",
   "metadata": {},
   "source": [
    "### Research Field Distribution of the Repositories in the ACM Sample\n",
    "The most strongly represented research field is computer science (69.6%). More rarely are repositories assigned to engineering, mathematics, decision sciences, and environmental science."
   ]
  },
  {
   "cell_type": "code",
   "execution_count": null,
   "metadata": {},
   "outputs": [],
   "source": [
    "overview = rs_repo_table.compose_subjects('subject', 'acm')\n",
    "data, data_cumulated = cursor_to_dict(overview, 750)\n",
    "display_pie_chart(data_cumulated, 'ACM', False)\n",
    "\n",
    "display_table(data, False)"
   ]
  },
  {
   "cell_type": "markdown",
   "metadata": {},
   "source": [
    "### Research Subject Distribution of the Repositories in the arXiv Sample\n",
    "The majority of the repositories is referenced by arXiv publications assigned to physical sciences (95.6%). "
   ]
  },
  {
   "cell_type": "code",
   "execution_count": null,
   "metadata": {},
   "outputs": [],
   "source": [
    "overview = rs_repo_table.compose_subjects('main_subject', 'arxiv')\n",
    "data, data_cumulated = cursor_to_dict(overview)\n",
    "display_pie_chart(data_cumulated, 'arXiv', True)\n",
    "\n",
    "display_table(data, True)"
   ]
  },
  {
   "cell_type": "markdown",
   "metadata": {},
   "source": [
    "### Research Field Distribution of the Repositories in the arXiv Sample\n",
    "The metadata of arXiv publications provide information about the primary research field. About two thirds of the repositories belong to computer science, followed by repositories from earth and planetary sciences (7.1%). The remaining quarter of repositories is associated to various research fields."
   ]
  },
  {
   "cell_type": "code",
   "execution_count": null,
   "metadata": {},
   "outputs": [],
   "source": [
    "overview = rs_repo_table.compose_subjects('subject', 'arxiv')\n",
    "data, data_cumulated = cursor_to_dict(overview, 300)\n",
    "display_pie_chart(data_cumulated, 'arXiv', False)\n",
    "\n",
    "# display_table(data, False)"
   ]
  },
  {
   "cell_type": "markdown",
   "metadata": {},
   "source": [
    "### Refining Computer Science of the arXiv Sample\n",
    "Regarding the computer science portion, the majority of repositories is assigned to computer vision and pattern recognition (41,9%). A portion of 20.3% belongs to machine learning. Also publications belonging to robotics (11.3%) and to computation and language (12.6%) refer to GitHub repositories, while the remaining quarter of repositories is referenced from publications of various other disciplines in computer science, including software engineering."
   ]
  },
  {
   "cell_type": "code",
   "execution_count": null,
   "metadata": {},
   "outputs": [],
   "source": [
    "overview = rs_repo_table.compose_arxiv_cs()\n",
    "areas, areas_cumulated = cursor_to_dict(overview, 80) \n",
    "\n",
    "plt.pie([float(v) for v in areas_cumulated.values()], labels=[k for k in areas_cumulated.keys()],\n",
    "        counterclock=False, autopct='%1.1f%%', startangle=90, pctdistance=0.8, \n",
    "        colors=plt.cm.Set3.colors)\n",
    "\n",
    "plt.axis('equal')\n",
    "#plt.savefig(\"arxivCS.pdf\", bbox_inches = \"tight\")\n",
    "print('arXiv group: refined computer science share:')\n",
    "plt.show()"
   ]
  }
 ],
 "metadata": {
  "kernelspec": {
   "display_name": "Python 3",
   "language": "python",
   "name": "python3"
  },
  "language_info": {
   "codemirror_mode": {
    "name": "ipython",
    "version": 3
   },
   "file_extension": ".py",
   "mimetype": "text/x-python",
   "name": "python",
   "nbconvert_exporter": "python",
   "pygments_lexer": "ipython3",
   "version": "3.8.5"
  }
 },
 "nbformat": 4,
 "nbformat_minor": 4
}
