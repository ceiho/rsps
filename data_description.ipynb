{
 "cells": [
  {
   "cell_type": "markdown",
   "metadata": {},
   "source": [
    "# Dataset Description   \n",
    "This Notebook describes the main characteristics of the harvested software repositories, the harvested publications, and the composed research software repositories set.  "
   ]
  },
  {
   "cell_type": "code",
   "execution_count": null,
   "metadata": {},
   "outputs": [],
   "source": [
    "import matplotlib.pyplot as plt\n",
    "import collections\n",
    "import modules.database as db"
   ]
  },
  {
   "cell_type": "markdown",
   "metadata": {},
   "source": [
    "## Connect to Database Collections  \n",
    "The harvested GitHub repositories and research publications are stored in MongoDB database\n",
    "collections. Moreover, collections for the identified research software repositories\n",
    "and their corresponding publications are created. Both repositories and publications get their\n",
    "separate database table. To link publications and repositories, each repository has a\n",
    "list of DOI names and each publication has a list of repository names. If the \n",
    "database tables, specified in the config file, do not exist, it has to be confirmed \n",
    "whether a new database table with this name should be created or an alternative database \n",
    "table may be specified."
   ]
  },
  {
   "cell_type": "code",
   "execution_count": null,
   "metadata": {},
   "outputs": [],
   "source": [
    "repo_table = db.RepoCollection()\n",
    "publication_table = db.Collection('publications')\n",
    "rs_repo_table = db.RsRepoCollection()\n",
    "rs_artifact_table = db.RsArtifactCollection()"
   ]
  },
  {
   "cell_type": "markdown",
   "metadata": {},
   "source": [
    "## Set Basic Parameters for Analysis"
   ]
  },
  {
   "cell_type": "code",
   "execution_count": null,
   "metadata": {},
   "outputs": [],
   "source": [
    "plt.style.use('fivethirtyeight')\n",
    "plt.rcParams.update({'font.size': 14})"
   ]
  },
  {
   "cell_type": "markdown",
   "metadata": {},
   "source": [
    "## Auxiliary Functions    \n",
    "Except the **percentage** function, the auxiliary functions get a database query and a description of the selected characteristic as parameters. According to the query, the number of reposiories with the specific characteristic is requested and considered in relation to the overall sample. The extracted research artifacts, stored in the **rs_artifacts** collection are also consiered in relation to all artifacts identified by a DOI and to all artifacts with harvested metadata."
   ]
  },
  {
   "cell_type": "code",
   "execution_count": null,
   "metadata": {},
   "outputs": [],
   "source": [
    "def percentage(part, whole):\n",
    "    return round(100 * float(part)/float(whole), 2)\n",
    "\n",
    "def publication_desc(query, desc):\n",
    "    total = publication_table.get_number_of_entries({})\n",
    "    request = publication_table.get_number_of_entries(query)\n",
    "    print(desc, request, '(', percentage(request, total),'%)')\n",
    "\n",
    "def artifact_desc(query, desc):\n",
    "    total = rs_artifact_table.get_number_of_entries({})\n",
    "    doi = rs_artifact_table.get_number_of_entries({'identifier.mode':'doi'})\n",
    "    meta = rs_artifact_table.get_number_of_entries({'$and':[{'identifier.mode':'doi'},{'source':'Crossref'}]})\n",
    "    request = rs_artifact_table.get_number_of_entries(query)\n",
    "    print(desc, request, '(Overall sample: ', percentage(request, total),'%)', '(DOI sample: ', percentage(request, doi),'%)', '(Metadata sample: ', percentage(request, meta),'%)')\n",
    "\n",
    "def rs_repo_desc(query, desc):\n",
    "    total = rs_repo_table.get_number_of_entries({})\n",
    "    request = rs_repo_table.get_number_of_entries(query)\n",
    "    print(desc, request, '(', percentage(request, total),'%)')"
   ]
  },
  {
   "cell_type": "markdown",
   "metadata": {},
   "source": [
    "## Harvested Publications\n",
    "In total, 33,187 publications were harvested, 24,240 from ACM (73.04%) and 8,947 from arXiv (26.96%). The DOI is the preferred identifier for the publications. It is provided for most of the publications (78.61%). The remaining publications are identified by their arXiv ID."
   ]
  },
  {
   "cell_type": "code",
   "execution_count": null,
   "metadata": {},
   "outputs": [],
   "source": [
    "publication_desc({}, 'Total number of harvested publications: ')\n",
    "publication_desc({'source':'acm'}, 'Number of harvested ACM publications: ')\n",
    "publication_desc({'source':'arxiv'}, 'Number of harvested arXiv publications: ')\n",
    "publication_desc({'$and':[{'source':'acm'},{'$or':[{'doi':{'$ne':''}},{'doi_from_link':{'$ne':''}}]}]}, \n",
    "                 'Number of ACM publications with a DOI: ')\n",
    "publication_desc({'$and':[{'source':'arxiv'},{'doi':{'$ne':''}}]}, \n",
    "                 'Number of arXiv publications with a DOI: ')\n",
    "publication_desc({'$or':[{'doi':{'$ne':''}},{'doi_from_link':{'$ne':None}}]}, 'Number of publications with a DOI: ')"
   ]
  },
  {
   "cell_type": "markdown",
   "metadata": {},
   "source": [
    "## Harvested Research Software Artifacts\n",
    "\n",
    "### Metadata and ISSN\n",
    "\n",
    "The harvested identifiers sum up together with the DOIs extracted from the GitHub repositories to 118,161 referenced publications. In the case of an existing DOI, the metadata are gathered. The artifacts identified by a DOI are grouped in the DOI subsample. This subsample is refined by the Metadata subsample, which consists of all artifacts identified by a DOI and with harvested metadata. The metadata requests were successful for most of the publications (83.22%). 94.37% of the metadata sample have an assigned ISSN or ISBN. This corresponds to 78.54% in the DOI sample. On the basis of the ISSN and ISBN, the research domain of a publication, and thus of a research software repository, is derived. An assignment of the research domain is obtained for half of the publications. "
   ]
  },
  {
   "cell_type": "code",
   "execution_count": null,
   "metadata": {},
   "outputs": [],
   "source": [
    "print('Harvested research software artifacts: ', rs_artifact_table.get_number_of_entries({}))\n",
    "print()\n",
    "artifact_desc({'identifier.mode':'doi'}, 'Number of artifacts identified by a DOI: ')\n",
    "artifact_desc({'identifier.mode':'arxiv_id'}, 'Number of artifacts identified by an arxiv_id: ')\n",
    "artifact_desc({'identifier.mode':'title'}, 'Number of artifacts identified by a title: ')\n",
    "print()\n",
    "artifact_desc({'source':'Crossref'}, 'Number of artifacts with available metadata: ')\n",
    "print()\n",
    "artifact_desc({'$or':[{'ISSN':{'$exists':True}},{'ISBN':{'$exists':True}}]}, 'Number of artifacts with an assigned ISSN or ISBN: ')\n",
    "artifact_desc({'ISSN':{'$exists':True}}, 'Number of artifacts with an assigned ISSN: ')\n",
    "artifact_desc({'ISBN':{'$exists':True}}, 'Number of artifacts with an assigned ISBN: ')\n",
    "artifact_desc({'main_subject':{'$exists':True}}, 'Number of artifacts with an assigned research domain: ')"
   ]
  },
  {
   "cell_type": "markdown",
   "metadata": {},
   "source": [
    "### Artifact Type\n",
    "The type specification is one of the available metadata information. The number of publications with a missing type specification amounts to a share of 16.8% publications in the DOI sample. The majority of the harvested publications is classified as journal article, followed by proceedings articles. The aggregated category “Others” summarizes – among other types – books, datasets, journals, and monographs (see long list below in the output). Due to the contained datasets, components, and other specification the collection is named rs_artifacts."
   ]
  },
  {
   "cell_type": "code",
   "execution_count": null,
   "metadata": {},
   "outputs": [],
   "source": [
    "overview = rs_artifact_table.compose_type()\n",
    "types = {'others':0}\n",
    "keys = []\n",
    "for elem in overview:\n",
    "    for item in elem['counts']:\n",
    "        keys.append(item['k'])\n",
    "        if not item['k']:\n",
    "            types['not specified'] = item['v']\n",
    "        elif item['v'] < 1000 or item['k'] == 'other':\n",
    "            types['others'] = types['others'] + item['v']\n",
    "        else:\n",
    "            types[item['k']] = item['v']\n",
    "\n",
    "print('All type specifications: ', keys, '\\n')\n",
    "types = {key: value for key, value in sorted(types.items(), key=lambda item: item[1],reverse=True)}\n",
    "\n",
    "plt.pie([float(v) for v in types.values()], labels=[k for k in types.keys()],\n",
    "        autopct='%1.1f%%', counterclock=False, startangle=0, pctdistance=0.8, colors=(plt.cm.Set3.colors*2))\n",
    "\n",
    "plt.axis('equal')\n",
    "# plt.savefig(\"doiTypes.pdf\", bbox_inches = \"tight\")\n",
    "print('Artifact types, as stated in the DOI metadata:')\n",
    "plt.show()"
   ]
  },
  {
   "cell_type": "markdown",
   "metadata": {},
   "source": [
    "## Harvested Research Software Repositories\n",
    "\n",
    "From the harvested publications 148,560 repository names were extracted, summing up with the 70,227 harvested GitHub repositories to 218,787 research software candidates. After accomplishing the filtering and classification of the repositories, 74,257 research software repositories were identified. These repositories are only a tiny part of more than 50 million public repositories hosted on GitHub (https://api.github.com/search/repositories?q=is:public). Due to a negative lifespan, 14 repositories are identified as outliers and removed from the sample. More than a third of the research software repositories, in the following referred to as repositories, is set up in recent years."
   ]
  },
  {
   "cell_type": "code",
   "execution_count": null,
   "metadata": {},
   "outputs": [],
   "source": [
    "print('Number of harvested repositories: ', repo_table.get_number_of_entries({}))\n",
    "print('Classified research software repositories: ', rs_repo_table.get_number_of_entries({}))"
   ]
  },
  {
   "cell_type": "code",
   "execution_count": null,
   "metadata": {},
   "outputs": [],
   "source": [
    "repos = rs_repo_table.get_entries({})\n",
    "years = {}\n",
    "for repo in repos:\n",
    "    year = int(repo['first_commit'].split('-')[0])\n",
    "    if year > 2003 and year < 2021:\n",
    "        if repo['first_commit'].split('-')[0] in years:\n",
    "            years[repo['first_commit'].split('-')[0]] = years[repo['first_commit'].split('-')[0]] + 1\n",
    "        else:\n",
    "            years[repo['first_commit'].split('-')[0]] = 1\n",
    "years = collections.OrderedDict(sorted(years.items()))\n",
    "print('Repos created in 2020: ', years['2020'], 'in percent: ', percentage(years['2020'], rs_repo_table.get_number_of_entries({})))\n",
    "print('Repos created in 2019: ', years['2019'], 'in percent: ', percentage(years['2019'], rs_repo_table.get_number_of_entries({})))\n",
    "plt.bar(range(len(years)), list(years.values()), align='center', tick_label=list(years.keys()))\n",
    "plt.xticks(range(len(years)), list(years.keys()), rotation=\"vertical\")\n",
    "\n",
    "plt.ylabel('Repositories')\n",
    "plt.xlabel('Year of First Commit')\n",
    "\n",
    "# plt.savefig(\"allYear.pdf\", bbox_inches = \"tight\")\n",
    "\n",
    "plt.show()"
   ]
  },
  {
   "cell_type": "markdown",
   "metadata": {},
   "source": [
    "### General Characteristics\n",
    "Among these harvested repositories, there are only a few (1.54%) archived repositories. Nearly a half of the repositories (49.86%) is forked, whereas not many repositories (7.85%) are forks. In the metadata of half of the repositories (54.6%) it is stated that they have a license. And nearly all repositories (83.59%) have an assigned primary language. "
   ]
  },
  {
   "cell_type": "code",
   "execution_count": null,
   "metadata": {},
   "outputs": [],
   "source": [
    "rs_repo_desc({'license':{'$ne':None}}, 'Number of repositories with a license: ')\n",
    "rs_repo_desc({'archived':True}, 'Number of archived repositories: ')\n",
    "rs_repo_desc({'forks':{'$gt':0}}, 'Number of forked repositories: ')\n",
    "rs_repo_desc({'fork':True}, 'Number of repositories that are a fork: ')\n",
    "rs_repo_desc({'language':{'$ne':None}}, 'Number of repositories with an assigned primary language: ')"
   ]
  },
  {
   "cell_type": "markdown",
   "metadata": {},
   "source": [
    "### Primary Programming Language\n",
    "The most commonly used programming language is Python (26.1%), followed by R (11.1%) and C++ (9.6%)."
   ]
  },
  {
   "cell_type": "code",
   "execution_count": null,
   "metadata": {},
   "outputs": [],
   "source": [
    "repos = rs_repo_table.get_entries({})\n",
    "languages = {'Others': 0}\n",
    "for repo in repos:\n",
    "    if repo['language']:\n",
    "        if repo['language'] in languages:\n",
    "            languages[repo['language']] = languages[repo['language']] + 1\n",
    "        else:\n",
    "            languages[repo['language']] = 1\n",
    "others = 0 \n",
    "remove = []\n",
    "for k,v in languages.items():\n",
    "    if v < 2000:\n",
    "        others = others + v\n",
    "        remove.append(k)\n",
    "for key in remove:\n",
    "    del languages[key]\n",
    "languages = {key: value for key, value in sorted(languages.items(), key=lambda item: item[1],reverse=True)}\n",
    "languages['Others'] = others\n",
    "    \n",
    "\n",
    "plt.pie([float(v) for v in languages.values()], labels=[k for k in languages.keys()], counterclock=False,\n",
    "        autopct='%1.1f%%', startangle=90, pctdistance=0.8, colors=plt.cm.Set3.colors)\n",
    "\n",
    "plt.axis('equal')\n",
    "# plt.savefig(\"languages.pdf\", bbox_inches = \"tight\")\n",
    "print('Distribution of assigned primary languages:')\n",
    "plt.show()"
   ]
  },
  {
   "cell_type": "markdown",
   "metadata": {},
   "source": [
    "### Assigned Research Artifacts\n",
    "Most of the repositories (73.5%) are related to one research publication. Considerably more seldom are two linked publications (17%), and very few repositories are associated to five (1%) or more (2.3%) publications."
   ]
  },
  {
   "cell_type": "code",
   "execution_count": null,
   "metadata": {},
   "outputs": [],
   "source": [
    "repos = rs_repo_table.get_entries({})\n",
    "num_artifacts = {'Others': 0}\n",
    "for repo in repos:\n",
    "    size = len(repo['references'])\n",
    "    if size in num_artifacts:\n",
    "        num_artifacts[size] = num_artifacts[size] + 1\n",
    "    else:\n",
    "        num_artifacts[size] = 1\n",
    "        \n",
    "others = 0 \n",
    "remove = []\n",
    "for k,v in num_artifacts.items():\n",
    "    if v < 500:\n",
    "        others = others + v\n",
    "        remove.append(k)\n",
    "for key in remove:\n",
    "    del num_artifacts[key]\n",
    "\n",
    "num_artifacts = {key: value for key, value in sorted(num_artifacts.items(), key=lambda item: item[1],reverse=True)}\n",
    "num_artifacts['Others'] = others\n",
    "    \n",
    "\n",
    "plt.pie([float(v) for v in num_artifacts.values()], labels=[k for k in num_artifacts.keys()], counterclock=False,\n",
    "        autopct='%1.1f%%', startangle=0, pctdistance=0.8, colors=plt.cm.Set3.colors)\n",
    "\n",
    "plt.axis('equal')\n",
    "# plt.savefig(\"numRef.pdf\", bbox_inches = \"tight\")\n",
    "print('Distribution of assigned research artifacts:')\n",
    "plt.show()"
   ]
  },
  {
   "cell_type": "markdown",
   "metadata": {},
   "source": [
    "### Type of Publication Reference\n",
    "\n",
    "Each repository is characterized by its type of publication reference. The reference allows the allocation of a repository to one of three groups.   \n",
    "(1) The GitHub group consists of repositories that are gathered from GitHub and contain a valid DOI reference.   \n",
    "(2) Repositories referenced in an ACM publication, are part of the ACM group.    \n",
    "(3) The arXiv group comprises all repositories that are linked in arXiv publications."
   ]
  },
  {
   "cell_type": "code",
   "execution_count": null,
   "metadata": {},
   "outputs": [],
   "source": [
    "total = rs_repo_table.get_number_of_entries({})\n",
    "groups = {}\n",
    "category = ['github', 'acm', 'arxiv']\n",
    "\n",
    "for elem in category:\n",
    "    part = rs_repo_table.get_number_of_entries({ \"group\": { '$in': [elem] } })\n",
    "    groups[elem] = part\n",
    "    print(percentage(part, total), '% (in total',\n",
    "          part, ') number of repositories in the', elem, 'set')\n",
    "\n",
    "plt.bar(range(len(groups)), list(groups.values()), align='center', tick_label=list(groups.values()))\n",
    "plt.xticks(range(len(groups)), list(groups.keys()))\n",
    "plt.xlabel('Type of publication reference')\n",
    "plt.ylabel('Repositories')\n",
    "# plt.savefig(\"group.pdf\", bbox_inches = \"tight\")\n",
    "\n",
    "plt.show()"
   ]
  }
 ],
 "metadata": {
  "kernelspec": {
   "display_name": "Python 3",
   "language": "python",
   "name": "python3"
  },
  "language_info": {
   "codemirror_mode": {
    "name": "ipython",
    "version": 3
   },
   "file_extension": ".py",
   "mimetype": "text/x-python",
   "name": "python",
   "nbconvert_exporter": "python",
   "pygments_lexer": "ipython3",
   "version": "3.8.5"
  }
 },
 "nbformat": 4,
 "nbformat_minor": 4
}
